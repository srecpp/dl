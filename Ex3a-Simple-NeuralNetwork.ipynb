{
 "cells": [
  {
   "cell_type": "markdown",
   "metadata": {},
   "source": [
    "AND"
   ]
  },
  {
   "cell_type": "code",
   "execution_count": 1,
   "metadata": {},
   "outputs": [
    {
     "name": "stdout",
     "output_type": "stream",
     "text": [
      "0\n",
      "0\n",
      "0\n",
      "1\n"
     ]
    }
   ],
   "source": [
    "import numpy as np\n",
    "\n",
    "def nparray(a, b):\n",
    "    a = np.array(a)\n",
    "    b = np.array(b)\n",
    "    sum_array = np.add(a, b)\n",
    "    threshold = 2\n",
    "    for i in sum_array:\n",
    "        if i >= threshold:\n",
    "            print(1)\n",
    "        else:\n",
    "            print(0)\n",
    "\n",
    "a = [0, 0, 1, 1]\n",
    "b = [0, 1, 0, 1]\n",
    "nparray(a, b)\n"
   ]
  },
  {
   "cell_type": "markdown",
   "metadata": {},
   "source": [
    "OR"
   ]
  },
  {
   "cell_type": "code",
   "execution_count": 2,
   "metadata": {},
   "outputs": [
    {
     "name": "stdout",
     "output_type": "stream",
     "text": [
      "0\n",
      "1\n",
      "1\n",
      "1\n"
     ]
    }
   ],
   "source": [
    "import numpy as np\n",
    "\n",
    "def nparray(a, b):\n",
    "    a = np.array(a)\n",
    "    b = np.array(b)\n",
    "    sum_array = np.add(a, b)\n",
    "    threshold = 1\n",
    "    for i in sum_array:\n",
    "        if i >= threshold:\n",
    "            print(1)\n",
    "        else:\n",
    "            print(0)\n",
    "\n",
    "a = [0, 0, 1, 1]\n",
    "b = [0, 1, 0, 1]\n",
    "\n",
    "nparray(a, b)\n"
   ]
  }
 ],
 "metadata": {
  "kernelspec": {
   "display_name": "Python 3",
   "language": "python",
   "name": "python3"
  },
  "language_info": {
   "codemirror_mode": {
    "name": "ipython",
    "version": 3
   },
   "file_extension": ".py",
   "mimetype": "text/x-python",
   "name": "python",
   "nbconvert_exporter": "python",
   "pygments_lexer": "ipython3",
   "version": "3.12.3"
  }
 },
 "nbformat": 4,
 "nbformat_minor": 2
}
